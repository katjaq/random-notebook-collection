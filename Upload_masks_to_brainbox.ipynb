{
 "cells": [
  {
   "cell_type": "markdown",
   "metadata": {},
   "source": [
    "# Upload masks to a BrainBox project"
   ]
  },
  {
   "cell_type": "markdown",
   "metadata": {},
   "source": [
    "Katja, spring 2021"
   ]
  },
  {
   "cell_type": "markdown",
   "metadata": {},
   "source": [
    "## Imports"
   ]
  },
  {
   "cell_type": "code",
   "execution_count": 4,
   "metadata": {},
   "outputs": [],
   "source": [
    "import urllib.request as urlreq\n",
    "import re\n",
    "import os\n",
    "import numpy as np\n",
    "import pandas as pd\n",
    "import scipy as sp\n",
    "\n",
    "import json"
   ]
  },
  {
   "cell_type": "code",
   "execution_count": null,
   "metadata": {},
   "outputs": [],
   "source": [
    "#!pip install joblib"
   ]
  },
  {
   "cell_type": "markdown",
   "metadata": {},
   "source": [
    "## Define paths and subjects"
   ]
  },
  {
   "cell_type": "code",
   "execution_count": 1,
   "metadata": {},
   "outputs": [],
   "source": [
    "# local path to segmentations\n",
    "SEG_DIR = '../data/derived/seg'"
   ]
  },
  {
   "cell_type": "code",
   "execution_count": 11,
   "metadata": {},
   "outputs": [],
   "source": [
    "# subject ID --> if the BrainBox project has a specified column for subjectID, subjectID can be queried from there (note: the \"Name\" field which is automatically populated from the csv file cannot be queried)\n",
    "# if not, we have to define the list as a string here\n",
    "subId = ['sub1', 'sub2', 'sub3']\n"
   ]
  },
  {
   "cell_type": "code",
   "execution_count": 12,
   "metadata": {},
   "outputs": [
    {
     "name": "stdout",
     "output_type": "stream",
     "text": [
      "3\n"
     ]
    }
   ],
   "source": [
    "print(len(subId))"
   ]
  },
  {
   "cell_type": "markdown",
   "metadata": {},
   "source": [
    "## Upload segmentations to BrainBox"
   ]
  },
  {
   "cell_type": "markdown",
   "metadata": {},
   "source": [
    "The example shows placeholders for the imaginary project https://brainbox.pasteur.fr/project/yourproject"
   ]
  },
  {
   "cell_type": "code",
   "execution_count": 62,
   "metadata": {},
   "outputs": [
    {
     "name": "stdout",
     "output_type": "stream",
     "text": [
      "156\n"
     ]
    }
   ],
   "source": [
    "# in case your project is a closed project, you will need tto get a token: \n",
    "# Get your token by logging into BrainBox and obtain your token at https://brainbox.pasteur.fr/mri/upload\n",
    "# token valid for 24h\n",
    "token = \"5p6g167929k6vsuuyp4f59\"\n",
    "\n",
    "# Get data from your BrainBox Project\n",
    "prj_url = \"http://brainbox.pasteur.fr/project/json/yourproject?token=\"+token\n",
    "res = urlreq.urlopen( prj_url )\n",
    "txt = res.read()\n",
    "prj = json.loads( txt )\n",
    "nfiles = len( prj['files']['list'] )\n",
    "\n",
    "N = nfiles\n",
    "\n",
    "print(N) "
   ]
  },
  {
   "cell_type": "code",
   "execution_count": 72,
   "metadata": {},
   "outputs": [],
   "source": [
    "#print ( prj['files']['list'] )\n",
    "links = prj['files']['list']"
   ]
  },
  {
   "cell_type": "code",
   "execution_count": 10,
   "metadata": {},
   "outputs": [
    {
     "data": {
      "text/plain": [
       "['https://linkToMyFile/anatomy_1.nii.gz',\n",
       " 'https://linkToMyFile/anatomy_2.nii.gz',\n",
       " 'https://linkToMyFile/anatomy_3.nii.gz']"
      ]
     },
     "execution_count": 10,
     "metadata": {},
     "output_type": "execute_result"
    }
   ],
   "source": [
    "links"
   ]
  },
  {
   "cell_type": "code",
   "execution_count": null,
   "metadata": {},
   "outputs": [],
   "source": [
    "%%bash\n",
    "# 2 links for testing\n",
    "links=('https://linkToMyFile/anatomy_1.nii.gz' 'https://linkToMyFile/anatomy_2.nii.gz')\n",
    "# links to all anatomical files in the project\n",
    "#links=('https://linkToMyFile/anatomy_1.nii.gz' 'https://linkToMyFile/anatomy_2.nii.gz' 'https://linkToMyFile/anatomy_3.nii.gz')\n",
    "\n",
    "# 2 subjects for testing\n",
    "subjects=('sub1_mask' 'sub2_mask')\n",
    "# all subjects\n",
    "#subjects=('sub1_mask' 'sub2_mask' 'sub3_mask')\n",
    "\n",
    "\n",
    "# path to local segmentation files\n",
    "pathToSeg=/full/path/to/data/derived/seg\n",
    "\n",
    "\n",
    "i=0\n",
    "for link in ${links[@]}; do\n",
    "    #echo index $i\n",
    "\n",
    "    sub=${subjects[i]}\n",
    "    echo $sub\n",
    "    \n",
    "    # in case you need to cut part of the naming\n",
    "    subID=$(printf $sub|cut -d '_' -f 1)\n",
    "    #echo $subID\n",
    "\n",
    "    i=$(( i + 1 ))\n",
    "    #echo index $i\n",
    "    \n",
    "    maskPath=${pathToSeg}/sub-${subID}\n",
    "    \n",
    "    mask=sub-${subID}.seg.nii.gz\n",
    "    #echo $mask\n",
    "    \n",
    "    # you will have to specify the annotation layer of your BrainBox project, in which you want to upload all segmentations\n",
    "    # For this, go to your project settings at https://brainbox.pasteur.fr/project/yourproject/settings and \n",
    "        # get the name of the annotation layer from there; or create a new layer by clicking the plus `+` icon, \n",
    "        # give it a name, type 'volume', and specify the labelset which you would like to use for this annotation layer\n",
    "    \n",
    "    curl -F \"url=${link}\" -F \"atlasName=yourannotationlayer\" -F \"atlasProject=yourproject\" -F \"atlasLabelSet=freestyle.json\" -F \"atlas=@${maskPath}/${mask}\" -F \"token=5p6g167929k6vsuuyp4f59\" https://brainbox.pasteur.fr/mri/upload\n",
    "\n",
    "done"
   ]
  }
 ],
 "metadata": {
  "kernelspec": {
   "display_name": "Python 3",
   "language": "python",
   "name": "python3"
  },
  "language_info": {
   "codemirror_mode": {
    "name": "ipython",
    "version": 3
   },
   "file_extension": ".py",
   "mimetype": "text/x-python",
   "name": "python",
   "nbconvert_exporter": "python",
   "pygments_lexer": "ipython3",
   "version": "3.6.13"
  }
 },
 "nbformat": 4,
 "nbformat_minor": 2
}